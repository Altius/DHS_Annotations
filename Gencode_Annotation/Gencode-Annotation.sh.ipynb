{
 "cells": [
  {
   "cell_type": "markdown",
   "metadata": {},
   "source": [
    "# Annotating the DHS Masterlist with Gencode\n",
    "\n",
    "1. Download Gencode Annotation file and DHS Masterlist file\n",
    "2. Parse Gencode file and create bed files for gene body, exon, cds , promoter, utr, intronic, and intergenic\n",
    "3. Map promoter, exon, intronic, and intergenic regions to DHS Masterlist\n",
    "4. Annotate the DHS as promoter, exon, intron, or intergenic depending on which element had the largest overlap. If there is a tie in overlap, the winning annotation is based on the rank\n",
    "5. For CDS and UTR under exon, pick the element that has the largest overlap. If there was a tie, pick the largest fraction of overlap\n",
    "6. For Protein-Coding and Non-Protein-Coding under promoter/intronic, pick the element that has the largest overlap. If there was a tie, pick the largest fraction of overlap\n"
   ]
  },
  {
   "cell_type": "code",
   "execution_count": 4,
   "metadata": {},
   "outputs": [],
   "source": [
    "#Establish Working Directory\n",
    "import os\n",
    "os.chdir(\"/home/nasi4/proj/encode3/DHS_Annotations/Gencode/results_streamline\")"
   ]
  },
  {
   "cell_type": "markdown",
   "metadata": {},
   "source": [
    "## Parse Gencode and map to DHS Masterlist"
   ]
  },
  {
   "cell_type": "code",
   "execution_count": 1,
   "metadata": {},
   "outputs": [],
   "source": [
    "%%bash\n",
    "\n",
    "#Refer back to Github README.md to obtain DHS Masterlist File and Basic Gencode v28 File\n",
    "#Make sure bedops module is loaded in order to run bedmap and sort-bed.\n",
    "#Remember to Download chromInfo.hg38.bed from Github Repository \n",
    "#Replace specific paths with what is written in the README.md\n",
    "\n",
    "fdir=/home/nasi4/proj/encode3/DHS_Annotations/Gencode/files\n",
    "masterlist=${fdir}/masterlist_DHSs_733samples_WM20180608_all_indexIDs.txt \n",
    "\n",
    "wdir=/home/nasi4/proj/encode3/DHS_Annotations/Gencode/results_streamline\n",
    "cd $wdir\n",
    "\n",
    "cut -f1-3 $masterlist > masterlist.bed3\n",
    "dhs=masterlist.bed3\n",
    "gencode=${fdir}/gencode.v28.basic.annotation.gtf\n",
    "\n",
    "#Remove row if start = end (only ~2K cases)\n",
    "tail -n +6 $gencode \\\n",
    "| awk -F'\\t' '{\n",
    "    if($4 != $5) {\n",
    "        print $1\"\\t\"$4\"\\t\"$5\"\\t\"$3\"\\t\"$7\n",
    "    }\n",
    "}' \\\n",
    "| /net/module/sw/bedops/2.4.37-typical/bin/sort-bed -  \\\n",
    "> tmp.gencode\n",
    "\n",
    "#Expand the transcription region to say promoter. +/- 1KB of TSS\n",
    "awk -F'\\t' '{\n",
    "        if($4 == \"transcript\") {\n",
    "                if ($5 == \"+\") {\n",
    "                        print $1\"\\t\"$2\"\\t\"$2+1000\"\\t\"\"promoter\";\n",
    "                }\n",
    "                else if ($5 == \"-\") {\n",
    "                        print $1\"\\t\"$3-1000\"\\t\"$3\"\\t\"\"promoter\";\n",
    "                }\n",
    "    }\n",
    "        else if($4 != \"transcript\") {\n",
    "                print $1\"\\t\"$2\"\\t\"$3\"\\t\"$4;\n",
    "        }\n",
    "}' tmp.gencode \\\n",
    "| grep -v chrM | grep -v Selenocysteine | grep -v codon \\\n",
    "| /net/module/sw/bedops/2.4.37-typical/bin/sort-bed - \\\n",
    "> tmp2.gencode\n",
    "\n",
    "#Need to find the INTRONS. Difference between gene and (CDS + PROMOTER + UTR) \n",
    "awk '{if($4 == \"gene\") print}' tmp2.gencode > gene.bed4\n",
    "awk '{if($4 == \"exon\") print}' tmp2.gencode > exon.bed4\n",
    "awk '{if($4 == \"CDS\") print}' tmp2.gencode > cds.bed4\n",
    "awk '{if($4 == \"promoter\") print}' tmp2.gencode > promoter.bed4\n",
    "awk '{if($4 == \"UTR\") print}' tmp2.gencode > utr.bed4\n",
    "\n",
    "/net/module/sw/bedops/2.4.37-typical/bin/bedops --ec -m utr.bed4 exon.bed4 promoter.bed4 cds.bed4 | /net/module/sw/bedops/2.4.37-typical/bin/bedops --ec -d gene.bed4 - > tmp.intron.bed4\n",
    "awk '{print $1\"\\t\"$2\"\\t\"$3\"\\t\"\"intron\"}' tmp.intron.bed4 > intron.bed4\n",
    "\n",
    "#Need to find the Intergenic region. Difference between Genome \n",
    "cat /home/nasi4/proj/encode3/DHS_Annotations/Gencode/files/chromInfo.hg38.bed  \\\n",
    "| grep -v chrM > chromInfoNoM.bed\n",
    "/net/module/sw/bedops/2.4.37-typical/bin/bedops --ec -d chromInfoNoM.bed gene.bed4 promoter.bed4 > tmp.intergenic.bed4\n",
    "awk '{print $1\"\\t\"$2\"\\t\"$3\"\\t\"\"intergenic\"}' tmp.intergenic.bed4 > intergenic.bed4\n",
    "\n",
    "#Clean Up\n",
    "rm tmp.intron.bed4\n",
    "rm tmp.intergenic.bed4\n",
    "\n",
    "#First Plot\n",
    "/net/module/sw/bedops/2.4.37-typical/bin/bedops --ec -u promoter.bed4 exon.bed4 intron.bed4 intergenic.bed4 | /net/module/sw/bedops/2.4.37-typical/bin/sort-bed - > gencode-genome.bed4\n",
    "/net/module/sw/bedops/2.4.37-typical/bin/bedmap --ec --echo --echo-map --skip-unmapped --echo-overlap-size $dhs gencode-genome.bed4 > test.DHS-genome.bed"
   ]
  },
  {
   "cell_type": "markdown",
   "metadata": {},
   "source": [
    "### Bed file of parsed Gencode\n",
    "Includes overlaps"
   ]
  },
  {
   "cell_type": "code",
   "execution_count": 5,
   "metadata": {},
   "outputs": [
    {
     "name": "stdout",
     "output_type": "stream",
     "text": [
      "chr1\t0\t11869\tintergenic\n",
      "chr1\t11869\t12227\texon\n",
      "chr1\t11869\t12869\tpromoter\n",
      "chr1\t12010\t12057\texon\n",
      "chr1\t12010\t13010\tpromoter\n",
      "chr1\t12179\t12227\texon\n",
      "chr1\t12613\t12697\texon\n",
      "chr1\t12613\t12721\texon\n",
      "chr1\t12975\t13052\texon\n",
      "chr1\t13052\t13221\tintron\n"
     ]
    }
   ],
   "source": [
    "%%bash\n",
    "head gencode-genome.bed4"
   ]
  },
  {
   "cell_type": "markdown",
   "metadata": {},
   "source": [
    "### Bed file of DHS masterlist mapped to Gencode\n",
    "Includes overlap size of Gencode elements"
   ]
  },
  {
   "cell_type": "code",
   "execution_count": 6,
   "metadata": {
    "scrolled": true
   },
   "outputs": [
    {
     "name": "stdout",
     "output_type": "stream",
     "text": [
      "chr1\t16140\t16200|chr1\t15947\t16436\tintron|60\n",
      "chr1\t51868\t52040|chr1\t36081\t52473\tintergenic|172\n",
      "chr1\t57280\t57354|chr1\t53473\t57598\tintergenic|74\n",
      "chr1\t66370\t66482|chr1\t65419\t66419\tpromoter;chr1\t66419\t69037\tintron|49;63\n",
      "chr1\t79100\t79231|chr1\t71585\t89295\tintergenic|131\n",
      "chr1\t79430\t79497|chr1\t71585\t89295\tintergenic|67\n",
      "chr1\t79580\t79760|chr1\t71585\t89295\tintergenic|180\n",
      "chr1\t87220\t87295|chr1\t71585\t89295\tintergenic|75\n",
      "chr1\t88220\t88360|chr1\t71585\t89295\tintergenic|140\n",
      "chr1\t88700\t88814|chr1\t71585\t89295\tintergenic|114\n"
     ]
    }
   ],
   "source": [
    "%%bash\n",
    "head test.DHS-genome.bed"
   ]
  },
  {
   "cell_type": "markdown",
   "metadata": {},
   "source": [
    "## Choose the Best Annotation\n",
    "Annotated DHS as promoter, exon, intron, or intergenic depending on which element had the largest overlap. If there was a tie, the winning annotation is based on the rank\n",
    "\n",
    "Promoter > Exon > Intron > Intergenic"
   ]
  },
  {
   "cell_type": "code",
   "execution_count": 7,
   "metadata": {},
   "outputs": [],
   "source": [
    "%%bash\n",
    "\n",
    "#Rank the elements. Promoter > Exon > Intron > Intergenic.\n",
    "#If two elements have the same overlap count, the winning element is chosen based on the rank\n",
    "\n",
    "biggest=0\n",
    "col=0\n",
    "\n",
    "sed 's/intergenic/1/g' test.DHS-genome.bed \\\n",
    "| sed 's/intron/2/g' \\\n",
    "| sed 's/exon/3/g' \\\n",
    "| sed 's/promoter/4/g' \\\n",
    "> choose_best.bed\n",
    "\n",
    "awk -F'|' -v b=$biggest -v c=$col '{\n",
    "        line=$3\n",
    "        split(line,a,\";\")\n",
    "\n",
    "        mapped=$2\n",
    "        split(mapped,m,\";\")\n",
    "        \n",
    "    if (length(a) == 1) {\n",
    "        print $1\"\\t\"$2\n",
    "    }\n",
    "    else {\n",
    "        for(i=1;i<=NF;i++) {\n",
    "            if (a[i] > b) {\n",
    "                b=a[i];\n",
    "                c=i;\n",
    "            }\n",
    "            else if (a[i] == b) {\n",
    "                old=m[c];\n",
    "                split(old,o,\"\\t\");\n",
    "                new=m[i];\n",
    "                split(new,n,\"\\t\");\n",
    "                if (o[4] < n[4]) {\n",
    "                    b=a[i];\n",
    "                    c=i;\n",
    "                }\n",
    "            }\n",
    "        }\n",
    "    print $1\"\\t\"m[c];\n",
    "    b=0;\n",
    "    }\n",
    "\n",
    "}'  choose_best.bed > overlap-answer.txt\n",
    "\n",
    "\n",
    "\n",
    "awk '{print $1\"\\t\"$2\"\\t\"$3\"\\t\"$7}' overlap-answer.txt \\\n",
    "| /net/module/sw/bedops/2.4.37-typical/bin/sort-bed - \\\n",
    "| awk '{if($4 == 1) print $1\"\\t\"$2\"\\t\"$3\"\\t\"\"intergenic\"; else if($4 == 2) print $1\"\\t\"$2\"\\t\"$3\"\\t\"\"intron\"; else if($4 == 3) print $1\"\\t\"$2\"\\t\"$3\"\\t\"\"exon\"; else if($4 == 4) print $1\"\\t\"$2\"\\t\"$3\"\\t\"\"promoter\"}' - \\\n",
    "> dhs_annotated_gencode28.bed\n"
   ]
  },
  {
   "cell_type": "markdown",
   "metadata": {},
   "source": [
    "### Annotated DHS Masterlist as Promoter, Exon, Intron, or Intergenic"
   ]
  },
  {
   "cell_type": "code",
   "execution_count": 8,
   "metadata": {},
   "outputs": [
    {
     "name": "stdout",
     "output_type": "stream",
     "text": [
      "chr1\t16140\t16200\tintron\n",
      "chr1\t51868\t52040\tintergenic\n",
      "chr1\t57280\t57354\tintergenic\n",
      "chr1\t66370\t66482\tintron\n",
      "chr1\t79100\t79231\tintergenic\n",
      "chr1\t79430\t79497\tintergenic\n",
      "chr1\t79580\t79760\tintergenic\n",
      "chr1\t87220\t87295\tintergenic\n",
      "chr1\t88220\t88360\tintergenic\n",
      "chr1\t88700\t88814\tintergenic\n",
      " 158527 exon\n",
      "1376951 intergenic\n",
      "1891595 intron\n",
      " 164825 promoter\n",
      "Total: 3591898\n"
     ]
    }
   ],
   "source": [
    "%%bash\n",
    "head dhs_annotated_gencode28.bed\n",
    "cut -f4 dhs_annotated_gencode28.bed | sort - | uniq -c\n",
    "total=`wc -l dhs_annotated_gencode28.bed | cut -d' ' -f1`\n",
    "echo \"Total: $total\""
   ]
  },
  {
   "cell_type": "markdown",
   "metadata": {},
   "source": [
    "### Split Exon Annotated DHSs to CDS, UTR, and non-coding"
   ]
  },
  {
   "cell_type": "markdown",
   "metadata": {},
   "source": [
    "1. Extract Exonic regions from DHS Annotation\n",
    "2. Extract UTR and CDS labeled regions from Gencode\n",
    "3. Map UTR/CDS regions to Exonic DHS Annotations\n",
    "4. Pick Element with the largest overlap. If there is a tie, pick the element with \n",
    "the largest fraction of overlap\n"
   ]
  },
  {
   "cell_type": "code",
   "execution_count": 16,
   "metadata": {},
   "outputs": [],
   "source": [
    "%%bash\n",
    "#Path to Gencode (Get from README.md)\n",
    "fdir=/home/nasi4/proj/encode3/DHS_Annotations/Gencode/files\n",
    "gencode=${fdir}/gencode.v28.basic.annotation.gtf\n",
    "\n",
    "#Need\n",
    "#dhs_annotated_gencode28.bed\n",
    "\n",
    "tail -n +6 $gencode \\\n",
    "| awk -F'\\t' '{\n",
    "        if($4 != $5) {\n",
    "                print $1\"\\t\"$4\"\\t\"$5\"\\t\"$3;\n",
    "        }\n",
    "}' \\\n",
    "| /net/module/sw/bedops/2.4.37-typical/bin/sort-bed - \\\n",
    "> tmp.gencode\n",
    "\n",
    "\n",
    "#Map\n",
    "awk '{if($4 == \"exon\") print}' dhs_annotated_gencode28.bed > dhs-exon.bed\n",
    "\n",
    "awk '{if($4 == \"UTR\") print}' tmp.gencode > utr.bed\n",
    "awk '{if($4 == \"CDS\") print}' tmp.gencode > cds.bed\n",
    "/net/module/sw/bedops/2.4.37-typical/bin/bedops -u utr.bed cds.bed > utr-cds-gencode.bed\n",
    "\n",
    "\n",
    "\n",
    "/net/module/sw/bedops/2.4.37-typical/bin/bedmap --echo --echo-map --echo-overlap-size --echo-map-size --skip-unmapped --ec dhs-exon.bed  utr-cds-gencode.bed \\\n",
    "> dhs_mapped_with_overlapPlusExtra.bed\n",
    "\n",
    "\n",
    "#Choose the element with the largest overlap or the largest fraction of overlap\n",
    "\n",
    "biggest=0\n",
    "col=0\n",
    "fraction=0\n",
    "\n",
    "awk -F'|' -v f=$fraction -v b=$biggest -v c=$col '{\n",
    "        line=$3\n",
    "        split(line,a,\";\")\n",
    "        mapped=$2\n",
    "        split(mapped,m,\";\")\n",
    "        size=$4\n",
    "        split(size,s,\";\")\n",
    "        \n",
    "        if (length(a) == 1) {\n",
    "                c=1;\n",
    "        }\n",
    "        else {\n",
    "                for(i=1;i<=NF;i++) {\n",
    "                        if (a[i] > b) {\n",
    "                                b=a[i];\n",
    "                                c=i;\n",
    "                                f=a[i]/s[i];\n",
    "                        }\n",
    "                        else if (a[i] == b) {\n",
    "                                if(a[i]/s[i] > f) {\n",
    "                                        b=a[i];\n",
    "                                        c=i;\n",
    "                                }\n",
    "                        } \n",
    "                }      \n",
    "        }\n",
    "        print $1\"\\t\"m[c];\n",
    "        b=0;      \n",
    "}' dhs_mapped_with_overlapPlusExtra.bed > overlap-answer.txt\n",
    "\n",
    "\n",
    "awk '{print $1\"\\t\"$2\"\\t\"$3\"\\t\"$4\"\\t\"$8}' overlap-answer.txt \\\n",
    "| /net/module/sw/bedops/2.4.37-typical/bin/sort-bed - \\\n",
    "> dhs_annotated_exon.bed"
   ]
  },
  {
   "cell_type": "code",
   "execution_count": 15,
   "metadata": {},
   "outputs": [
    {
     "name": "stdout",
     "output_type": "stream",
     "text": [
      "chr1\t935890\t936080\texon\tCDS\n",
      "chr1\t939198\t939366\texon\tCDS\n",
      "chr1\t939440\t939680\texon\tCDS\n",
      "chr1\t941140\t941361\texon\tCDS\n",
      "chr1\t941140\t941620\texon\tCDS\n",
      "chr1\t942191\t942220\texon\tCDS\n",
      "chr1\t942500\t942700\texon\tCDS\n",
      "chr1\t942660\t942780\texon\tCDS\n",
      "chr1\t943036\t943460\texon\tCDS\n",
      "chr1\t943189\t943401\texon\tCDS\n",
      "  68648 CDS\n",
      "  60908 UTR\n",
      "Total: 129556\n"
     ]
    }
   ],
   "source": [
    "%%bash\n",
    "head dhs_annotated_exon.bed\n",
    "cut -f5 dhs_annotated_exon.bed | sort - | uniq -c\n",
    "total=`wc -l dhs_annotated_exon.bed | cut -d' ' -f1`\n",
    "echo \"Total: $total\""
   ]
  },
  {
   "cell_type": "markdown",
   "metadata": {},
   "source": [
    "### Split Promoter annotated DHSs to coding-gene and non-coding"
   ]
  },
  {
   "cell_type": "markdown",
   "metadata": {},
   "source": [
    "1. Extract Promoter regions from DHS Annotation\n",
    "2. Extract protein-coding labeled regions from gencode\n",
    "3. Map protein-coding/non-coding gencode regions to Promoter DHS Annotations\n",
    "4. Pick element with the largest overlap. If there is a tie, pick the element with the largest fraction of overlap\n",
    "\n",
    "Notes:\n",
    "NPC = non-coding, PC = protein-coding"
   ]
  },
  {
   "cell_type": "code",
   "execution_count": 18,
   "metadata": {},
   "outputs": [],
   "source": [
    "%%bash\n",
    "\n",
    "#Path to Gencode (Get from README.md)\n",
    "fdir=/home/nasi4/proj/encode3/DHS_Annotations/Gencode/files\n",
    "gencode=${fdir}/gencode.v28.basic.annotation.gtf\n",
    "\n",
    "#Need\n",
    "#dhs_annotated_gencode28.bed\n",
    "\n",
    "\n",
    "tail -n +6 $gencode \\\n",
    "| awk -F'\\t' '{\n",
    "        if($4 != $5) {\n",
    "                print $1\"\\t\"$4\"\\t\"$5\"\\t\"$3\"\\t\"$9;\n",
    "        }\n",
    "}' \\\n",
    "| /net/module/sw/bedops/2.4.37-typical/bin/sort-bed - \\\n",
    "> tmp.gencode\n",
    "\n",
    "\n",
    "#Map\n",
    "awk '{if($4 == \"promoter\") print}' dhs_annotated_gencode28.bed > dhs-promoter.bed\n",
    "\n",
    "grep protein_coding tmp.gencode \\\n",
    "| awk '{print $1\"\\t\"$2\"\\t\"$3\"\\t\"\"PC\"}' - > PC.bed\n",
    "\n",
    "grep -v protein_coding tmp.gencode \\\n",
    "| awk '{print $1\"\\t\"$2\"\\t\"$3\"\\t\"\"NPC\"}'> NPC.bed\n",
    "\n",
    "\n",
    "/net/module/sw/bedops/2.4.37-typical/bin/bedops -u PC.bed NPC.bed > PC-NPC-gencode.bed\n",
    "\n",
    "\n",
    "/net/module/sw/bedops/2.4.37-typical/bin/bedmap --echo --echo-map --echo-overlap-size --echo-map-size --skip-unmapped --ec dhs-promoter.bed PC-NPC-gencode.bed \\\n",
    "> dhs_mapped_with_overlapPlusExtra.bed\n",
    "\n",
    "#Pick the element with the largest overlap or the largest fraction of overlap\n",
    "\n",
    "biggest=0\n",
    "col=0\n",
    "fraction=0\n",
    "\n",
    "awk -F'|' -v f=$fraction -v b=$biggest -v c=$col '{\n",
    "        line=$3\n",
    "        split(line,a,\";\")\n",
    "        mapped=$2\n",
    "        split(mapped,m,\";\")\n",
    "        size=$4\n",
    "        split(size,s,\";\")\n",
    "        \n",
    "        if (length(a) == 1) {\n",
    "                c=1;\n",
    "        }\n",
    "        else {\n",
    "                for(i=1;i<=NF;i++) {\n",
    "                        if (a[i] > b) {\n",
    "                                b=a[i];\n",
    "                                c=i;\n",
    "                                f=a[i]/s[i];\n",
    "                        }\n",
    "                        else if (a[i] == b) {\n",
    "                                if(a[i]/s[i] > f) {\n",
    "                                        b=a[i];\n",
    "                                        c=i;\n",
    "                                }\n",
    "                        } \n",
    "                }      \n",
    "        }\n",
    "        print $1\"\\t\"m[c];\n",
    "        b=0;      \n",
    "}' dhs_mapped_with_overlapPlusExtra.bed > overlap-answer.txt\n",
    "\n",
    "awk '{print $1\"\\t\"$2\"\\t\"$3\"\\t\"$4\"\\t\"$8}' overlap-answer.txt \\\n",
    "| /net/module/sw/bedops/2.4.37-typical/bin/sort-bed - \\\n",
    "> dhs_annotated_promoter.bed"
   ]
  },
  {
   "cell_type": "code",
   "execution_count": 19,
   "metadata": {},
   "outputs": [
    {
     "name": "stdout",
     "output_type": "stream",
     "text": [
      "chr1\t90140\t90209\tpromoter\tNPC\n",
      "chr1\t135100\t135144\tpromoter\tNPC\n",
      "chr1\t182681\t182819\tpromoter\tNPC\n",
      "chr1\t186960\t187129\tpromoter\tNPC\n",
      "chr1\t629100\t629280\tpromoter\tNPC\n",
      "chr1\t629160\t629310\tpromoter\tNPC\n",
      "chr1\t629512\t629580\tpromoter\tNPC\n",
      "chr1\t629520\t629596\tpromoter\tNPC\n",
      "chr1\t629870\t630020\tpromoter\tNPC\n",
      "chr1\t630075\t630240\tpromoter\tNPC\n",
      "  47219 NPC\n",
      " 112242 PC\n",
      "Total: 159461\n"
     ]
    }
   ],
   "source": [
    "%%bash\n",
    "head dhs_annotated_promoter.bed\n",
    "cut -f5 dhs_annotated_promoter.bed | sort - | uniq -c\n",
    "total=`wc -l dhs_annotated_promoter.bed | cut -d' ' -f1`\n",
    "echo \"Total: $total\""
   ]
  },
  {
   "cell_type": "markdown",
   "metadata": {},
   "source": [
    "### Split Intronic annotated DHSs to coding-gene and non-coding\n",
    "\n",
    "1. Extract Intronic regions from DHS Annotation\n",
    "2. Extract protein-coding labeled regions from gencode\n",
    "3. Map protein-coding/non-coding gencode regions to Intronic DHS Annotations\n",
    "4. Pick element with the largest overlap. If there is a tie, pick the element with the largest fraction of overlap\n",
    "\n",
    "Notes:\n",
    "NPC = non-coding, PC = protein-coding"
   ]
  },
  {
   "cell_type": "code",
   "execution_count": 22,
   "metadata": {},
   "outputs": [],
   "source": [
    "%%bash\n",
    "\n",
    "#Path to Gencode (Get from README.md)\n",
    "fdir=/home/nasi4/proj/encode3/DHS_Annotations/Gencode/files\n",
    "gencode=${fdir}/gencode.v28.basic.annotation.gtf\n",
    "\n",
    "#Need\n",
    "#dhs_annotated_gencode28.bed\n",
    "\n",
    "genePart=\"intron\"\n",
    "\n",
    "tail -n +6 $gencode \\\n",
    "| awk -F'\\t' '{\n",
    "        if($4 != $5) {\n",
    "                print $1\"\\t\"$4\"\\t\"$5\"\\t\"$3\"\\t\"$9;\n",
    "        }\n",
    "}' \\\n",
    "| /net/module/sw/bedops/2.4.37-typical/bin/sort-bed - \\\n",
    "> tmp.gencode\n",
    "\n",
    "\n",
    "#Map PC/NPC regions to Intronic DHSs\n",
    "awk -F'\\t' '{if($4 == \"intron\") print}' dhs_annotated_gencode28.bed > dhs-intron.bed\n",
    "\n",
    "grep protein_coding tmp.gencode \\\n",
    "| awk '{print $1\"\\t\"$2\"\\t\"$3\"\\t\"\"PC\"}' - > PC.bed\n",
    "\n",
    "grep -v protein_coding tmp.gencode \\\n",
    "| awk '{print $1\"\\t\"$2\"\\t\"$3\"\\t\"\"NPC\"}'> NPC.bed\n",
    "\n",
    "/net/module/sw/bedops/2.4.37-typical/bin/bedops -u PC.bed NPC.bed > PC-NPC-gencode.bed\n",
    "\n",
    "/net/module/sw/bedops/2.4.37-typical/bin/bedmap --echo --echo-map --echo-overlap-size --echo-map-size --skip-unmapped --ec dhs-${genePart}.bed PC-NPC-gencode.bed \\\n",
    "> dhs_mapped_with_overlapPlusExtra.bed\n",
    "\n",
    "biggest=0\n",
    "col=0\n",
    "fraction=0\n",
    "\n",
    "awk -F'|' -v f=$fraction -v b=$biggest -v c=$col '{\n",
    "        line=$3\n",
    "        split(line,a,\";\")\n",
    "        mapped=$2\n",
    "        split(mapped,m,\";\")\n",
    "        size=$4\n",
    "        split(size,s,\";\")\n",
    "        \n",
    "        if (length(a) == 1) {\n",
    "                c=1;\n",
    "        }\n",
    "        else {\n",
    "                for(i=1;i<=NF;i++) {\n",
    "                        if (a[i] > b) {\n",
    "                                b=a[i];\n",
    "                                c=i;\n",
    "                                f=a[i]/s[i];\n",
    "                        }\n",
    "                        else if (a[i] == b) {\n",
    "                                if(a[i]/s[i] > f) {\n",
    "                                        b=a[i];\n",
    "                                        c=i;\n",
    "                                }\n",
    "                        } \n",
    "                }      \n",
    "        }\n",
    "        print $1\"\\t\"m[c];\n",
    "        b=0;      \n",
    "}' dhs_mapped_with_overlapPlusExtra.bed > overlap-answer.txt\n",
    "\n",
    "awk '{print $1\"\\t\"$2\"\\t\"$3\"\\t\"$4\"\\t\"$8}' overlap-answer.txt \\\n",
    "| /net/module/sw/bedops/2.4.37-typical/bin/sort-bed - \\\n",
    "> dhs_annotated_${genePart}.bed"
   ]
  },
  {
   "cell_type": "code",
   "execution_count": 23,
   "metadata": {},
   "outputs": [
    {
     "name": "stdout",
     "output_type": "stream",
     "text": [
      "chr1\t16140\t16200\tintron\tNPC\n",
      "chr1\t66370\t66482\tintron\tPC\n",
      "chr1\t99630\t99717\tintron\tNPC\n",
      "chr1\t113860\t113950\tintron\tNPC\n",
      "chr1\t128619\t128757\tintron\tNPC\n",
      "chr1\t186727\t186834\tintron\tNPC\n",
      "chr1\t186817\t186996\tintron\tNPC\n",
      "chr1\t190865\t190920\tintron\tNPC\n",
      "chr1\t190920\t191071\tintron\tNPC\n",
      "chr1\t191260\t191340\tintron\tNPC\n",
      " 383039 NPC\n",
      "1508556 PC\n",
      "Total: 1891595\n"
     ]
    }
   ],
   "source": [
    "%%bash\n",
    "head dhs_annotated_intron.bed\n",
    "cut -f5 dhs_annotated_intron.bed | sort - | uniq -c\n",
    "total=`wc -l dhs_annotated_intron.bed | cut -d' ' -f1`\n",
    "echo \"Total: $total\""
   ]
  },
  {
   "cell_type": "code",
   "execution_count": null,
   "metadata": {},
   "outputs": [],
   "source": []
  }
 ],
 "metadata": {
  "kernelspec": {
   "display_name": "Python 2.7.5",
   "language": "python",
   "name": "python2"
  },
  "language_info": {
   "codemirror_mode": {
    "name": "ipython",
    "version": 2
   },
   "file_extension": ".py",
   "mimetype": "text/x-python",
   "name": "python",
   "nbconvert_exporter": "python",
   "pygments_lexer": "ipython2",
   "version": "2.7.5"
  }
 },
 "nbformat": 4,
 "nbformat_minor": 4
}
