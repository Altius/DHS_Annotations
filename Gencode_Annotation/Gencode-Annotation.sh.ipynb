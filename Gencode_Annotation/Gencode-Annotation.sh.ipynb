{
 "cells": [
  {
   "cell_type": "markdown",
   "metadata": {},
   "source": [
    "# Annotating the DHS Masterlist with Gencode\n",
    "\n",
    "1. Download Gencode Annotation file and DHS Masterlist file\n",
    "2. Parse Gencode file and create bed files for gene body, exon, cds , promoter, utr, intronic, and intergenic\n",
    "3. Map promoter, exon, intronic, and intergenic regions to DHS Masterlist\n",
    "4. Annotate the DHS as promoter, exon, intron, or intergenic depending on which element had the largest overlap. If there is a tie in overlap, the winning annotation is based on the rank\n",
    "5. For CDS and UTR under exon, pick the element that has the largest overlap. If there was a tie, pick the largest fraction of overlap\n",
    "6. For Protein-Coding and Non-Protein-Coding under promoter/intronic, pick the element that has the largest overlap. If there was a tie, pick the largest fraction of overlap\n"
   ]
  },
  {
   "cell_type": "markdown",
   "metadata": {},
   "source": [
    "## Download Gencode, DHS Masterlist, and genome files\n",
    "\n",
    "1. Look at Github README.md for instructions on how to download and name Gencode Annotation file and DHS Masterlist\n",
    "2. Download chromInfo.hg38.bed from Github repository\n",
    "3. Load bedops in order to run bedops, bedmap, and sort-bed"
   ]
  },
  {
   "cell_type": "markdown",
   "metadata": {},
   "source": [
    "### DHS Masterlist"
   ]
  },
  {
   "cell_type": "code",
   "execution_count": 55,
   "metadata": {},
   "outputs": [
    {
     "name": "stdout",
     "output_type": "stream",
     "text": [
      "chr1\t16140\t16200\n",
      "chr1\t51868\t52040\n",
      "chr1\t57280\t57354\n",
      "chr1\t66370\t66482\n",
      "chr1\t79100\t79231\n",
      "chr1\t79430\t79497\n",
      "chr1\t79580\t79760\n",
      "chr1\t87220\t87295\n",
      "chr1\t88220\t88360\n",
      "chr1\t88700\t88814\n",
      "Total number of rows: 3591898\n"
     ]
    }
   ],
   "source": [
    "%%bash\n",
    "#Initial DHS_Index Filename should be \"DHS_Index_and_Vocabulary_hg38_WM20190703.txt.gz\"\n",
    "gunzip DHS_Index_and_Vocabulary_hg38_WM20190703.txt.gz\n",
    "cut -f1-3 DHS_Index_and_Vocabulary_hg38_WM20190703.txt \\\n",
    "| tail -n +2 \\\n",
    "> DHS_Index.bed\n",
    "\n",
    "head DHS_Index.bed\n",
    "total=`wc -l DHS_Index.bed | cut -d' ' -f1`\n",
    "echo \"Total number of rows: $total\""
   ]
  },
  {
   "cell_type": "markdown",
   "metadata": {},
   "source": [
    "### Gencode"
   ]
  },
  {
   "cell_type": "code",
   "execution_count": 57,
   "metadata": {},
   "outputs": [
    {
     "name": "stdout",
     "output_type": "stream",
     "text": [
      "##description: evidence-based annotation of the human genome (GRCh38), version 28 (Ensembl 92)\n",
      "##provider: GENCODE\n",
      "##contact: gencode-help@ebi.ac.uk\n",
      "##format: gtf\n",
      "##date: 2018-03-23\n",
      "chr1\tHAVANA\tgene\t11869\t14409\t.\t+\t.\tgene_id \"ENSG00000223972.5\"; gene_type \"transcribed_unprocessed_pseudogene\"; gene_name \"DDX11L1\"; level 2; havana_gene \"OTTHUMG00000000961.2\";\n",
      "chr1\tHAVANA\ttranscript\t11869\t14409\t.\t+\t.\tgene_id \"ENSG00000223972.5\"; transcript_id \"ENST00000456328.2\"; gene_type \"transcribed_unprocessed_pseudogene\"; gene_name \"DDX11L1\"; transcript_type \"processed_transcript\"; transcript_name \"RP11-34P13.1-002\"; level 2; transcript_support_level \"1\"; tag \"basic\"; havana_gene \"OTTHUMG00000000961.2\"; havana_transcript \"OTTHUMT00000362751.1\";\n",
      "chr1\tHAVANA\texon\t11869\t12227\t.\t+\t.\tgene_id \"ENSG00000223972.5\"; transcript_id \"ENST00000456328.2\"; gene_type \"transcribed_unprocessed_pseudogene\"; gene_name \"DDX11L1\"; transcript_type \"processed_transcript\"; transcript_name \"RP11-34P13.1-002\"; exon_number 1; exon_id \"ENSE00002234944.1\"; level 2; transcript_support_level \"1\"; tag \"basic\"; havana_gene \"OTTHUMG00000000961.2\"; havana_transcript \"OTTHUMT00000362751.1\";\n",
      "chr1\tHAVANA\texon\t12613\t12721\t.\t+\t.\tgene_id \"ENSG00000223972.5\"; transcript_id \"ENST00000456328.2\"; gene_type \"transcribed_unprocessed_pseudogene\"; gene_name \"DDX11L1\"; transcript_type \"processed_transcript\"; transcript_name \"RP11-34P13.1-002\"; exon_number 2; exon_id \"ENSE00003582793.1\"; level 2; transcript_support_level \"1\"; tag \"basic\"; havana_gene \"OTTHUMG00000000961.2\"; havana_transcript \"OTTHUMT00000362751.1\";\n",
      "chr1\tHAVANA\texon\t13221\t14409\t.\t+\t.\tgene_id \"ENSG00000223972.5\"; transcript_id \"ENST00000456328.2\"; gene_type \"transcribed_unprocessed_pseudogene\"; gene_name \"DDX11L1\"; transcript_type \"processed_transcript\"; transcript_name \"RP11-34P13.1-002\"; exon_number 3; exon_id \"ENSE00002312635.1\"; level 2; transcript_support_level \"1\"; tag \"basic\"; havana_gene \"OTTHUMG00000000961.2\"; havana_transcript \"OTTHUMT00000362751.1\";\n"
     ]
    }
   ],
   "source": [
    "%%bash\n",
    "#Initial Gencode Filename should be \"gencode.v28.basic.annotation.gtf.gz\"\n",
    "gunzip gencode.v28.basic.annotation.gtf.gz\n",
    "head gencode.v28.basic.annotation.gtf"
   ]
  },
  {
   "cell_type": "markdown",
   "metadata": {},
   "source": [
    "## Parse Gencode and map to DHS Masterlist"
   ]
  },
  {
   "cell_type": "code",
   "execution_count": 58,
   "metadata": {},
   "outputs": [],
   "source": [
    "%%bash\n",
    "#Remove row if start = end (only ~1100 cases)\n",
    "tail -n +6 gencode.v28.basic.annotation.gtf \\\n",
    "| awk -F'\\t' '{\n",
    "    if($4 != $5) {\n",
    "        print $1\"\\t\"$4\"\\t\"$5\"\\t\"$3\"\\t\"$7\n",
    "    }\n",
    "}' \\\n",
    "| sort-bed -  \\\n",
    "> gencode.v28.basic.annotation.filtered.gtf\n",
    "\n",
    "#Expand the transcription region to say promoter. +/- 1KB of TSS\n",
    "awk -F'\\t' '{\n",
    "        if($4 == \"transcript\") {\n",
    "                if ($5 == \"+\") {\n",
    "                        print $1\"\\t\"$2\"\\t\"$2+1000\"\\t\"\"promoter\";\n",
    "                }\n",
    "                else if ($5 == \"-\") {\n",
    "                        print $1\"\\t\"$3-1000\"\\t\"$3\"\\t\"\"promoter\";\n",
    "                }\n",
    "    }\n",
    "        else if($4 != \"transcript\") {\n",
    "                print $1\"\\t\"$2\"\\t\"$3\"\\t\"$4;\n",
    "        }\n",
    "}' gencode.v28.basic.annotation.filtered.gtf \\\n",
    "| grep -v chrM | grep -v Selenocysteine | grep -v codon \\\n",
    "| sort-bed - \\\n",
    "> gencode.bed\n",
    "\n",
    "#Need to find the INTRONS. Difference between gene and (CDS + PROMOTER + UTR) \n",
    "awk '{if($4 == \"gene\") print}' gencode.bed > gene.bed\n",
    "awk '{if($4 == \"exon\") print}' gencode.bed > exon.bed\n",
    "awk '{if($4 == \"CDS\") print}' gencode.bed > cds.bed\n",
    "awk '{if($4 == \"promoter\") print}' gencode.bed > promoter.bed\n",
    "awk '{if($4 == \"UTR\") print}' gencode.bed > utr.bed\n",
    "\n",
    "bedops --ec -m utr.bed exon.bed promoter.bed cds.bed | bedops --ec -d gene.bed - > tmp.intron.bed\n",
    "awk '{print $1\"\\t\"$2\"\\t\"$3\"\\t\"\"intron\"}' tmp.intron.bed > intron.bed\n",
    "\n",
    "#Need to find the Intergenic region. Difference between Genome and gene-body + promoter region\n",
    "cat chromInfo.hg38.bed  \\\n",
    "| grep -v chrM > chromInfoNoM.bed\n",
    "bedops --ec -d chromInfoNoM.bed gene.bed promoter.bed > tmp.intergenic.bed\n",
    "awk '{print $1\"\\t\"$2\"\\t\"$3\"\\t\"\"intergenic\"}' tmp.intergenic.bed > intergenic.bed\n",
    "\n",
    "#Clean Up\n",
    "rm tmp.intron.bed\n",
    "rm tmp.intergenic.bed\n",
    "\n",
    "#Unite promoter, exon, intron, and intergenic regions in one bed file\n",
    "#Map united bed file and map to DHS_Index.bed\n",
    "bedops --ec -u promoter.bed exon.bed intron.bed intergenic.bed | sort-bed - > gencode-genome.bed\n",
    "bedmap --ec --echo --echo-map --skip-unmapped --echo-overlap-size DHS_Index.bed gencode-genome.bed > gencode_mapped.bed"
   ]
  },
  {
   "cell_type": "markdown",
   "metadata": {},
   "source": [
    "### Bed file of parsed Gencode\n",
    "Includes rows that overlap"
   ]
  },
  {
   "cell_type": "code",
   "execution_count": 59,
   "metadata": {},
   "outputs": [
    {
     "name": "stdout",
     "output_type": "stream",
     "text": [
      "chr1\t0\t11869\tintergenic\n",
      "chr1\t11869\t12227\texon\n",
      "chr1\t11869\t12869\tpromoter\n",
      "chr1\t12010\t12057\texon\n",
      "chr1\t12010\t13010\tpromoter\n",
      "chr1\t12179\t12227\texon\n",
      "chr1\t12613\t12697\texon\n",
      "chr1\t12613\t12721\texon\n",
      "chr1\t12975\t13052\texon\n",
      "chr1\t13052\t13221\tintron\n"
     ]
    }
   ],
   "source": [
    "%%bash\n",
    "head gencode-genome.bed"
   ]
  },
  {
   "cell_type": "markdown",
   "metadata": {},
   "source": [
    "### Bed file of Gencode mapped to DHS Masterlist\n",
    "Includes overlap size of Gencode elements"
   ]
  },
  {
   "cell_type": "code",
   "execution_count": 60,
   "metadata": {
    "scrolled": true
   },
   "outputs": [
    {
     "name": "stdout",
     "output_type": "stream",
     "text": [
      "chr1\t16140\t16200|chr1\t15947\t16436\tintron|60\n",
      "chr1\t51868\t52040|chr1\t36081\t52473\tintergenic|172\n",
      "chr1\t57280\t57354|chr1\t53473\t57598\tintergenic|74\n",
      "chr1\t66370\t66482|chr1\t65419\t66419\tpromoter;chr1\t66419\t69037\tintron|49;63\n",
      "chr1\t79100\t79231|chr1\t71585\t89295\tintergenic|131\n",
      "chr1\t79430\t79497|chr1\t71585\t89295\tintergenic|67\n",
      "chr1\t79580\t79760|chr1\t71585\t89295\tintergenic|180\n",
      "chr1\t87220\t87295|chr1\t71585\t89295\tintergenic|75\n",
      "chr1\t88220\t88360|chr1\t71585\t89295\tintergenic|140\n",
      "chr1\t88700\t88814|chr1\t71585\t89295\tintergenic|114\n"
     ]
    }
   ],
   "source": [
    "%%bash\n",
    "head gencode_mapped.bed"
   ]
  },
  {
   "cell_type": "markdown",
   "metadata": {},
   "source": [
    "## Choose the Best Annotation\n",
    "Annotated DHS as promoter, exon, intron, or intergenic depending on which element had the largest overlap. If there was a tie, the winning annotation is based on the rank\n",
    "\n",
    "*Rank: Promoter > Exon > Intron > Intergenic*"
   ]
  },
  {
   "cell_type": "code",
   "execution_count": 61,
   "metadata": {},
   "outputs": [],
   "source": [
    "%%bash\n",
    "\n",
    "biggest=0\n",
    "col=0\n",
    "\n",
    "sed 's/intergenic/1/g' gencode_mapped.bed \\\n",
    "| sed 's/intron/2/g' \\\n",
    "| sed 's/exon/3/g' \\\n",
    "| sed 's/promoter/4/g' \\\n",
    "> choose_best_annotation.bed\n",
    "\n",
    "awk -F'|' -v b=$biggest -v c=$col '{\n",
    "        line=$3\n",
    "        split(line,a,\";\")\n",
    "\n",
    "        mapped=$2\n",
    "        split(mapped,m,\";\")\n",
    "        \n",
    "    if (length(a) == 1) {\n",
    "        print $1\"\\t\"$2\n",
    "    }\n",
    "    else {\n",
    "        for(i=1;i<=NF;i++) {\n",
    "            if (a[i] > b) {\n",
    "                b=a[i];\n",
    "                c=i;\n",
    "            }\n",
    "            else if (a[i] == b) {\n",
    "                old=m[c];\n",
    "                split(old,o,\"\\t\");\n",
    "                new=m[i];\n",
    "                split(new,n,\"\\t\");\n",
    "                if (o[4] < n[4]) {\n",
    "                    b=a[i];\n",
    "                    c=i;\n",
    "                }\n",
    "            }\n",
    "        }\n",
    "    print $1\"\\t\"m[c];\n",
    "    b=0;\n",
    "    }\n",
    "\n",
    "}'  choose_best_annotation.bed > best_annotation.bed\n",
    "\n",
    "\n",
    "\n",
    "awk '{print $1\"\\t\"$2\"\\t\"$3\"\\t\"$7}' best_annotation.bed \\\n",
    "| sort-bed - \\\n",
    "| awk '{if($4 == 1) print $1\"\\t\"$2\"\\t\"$3\"\\t\"\"intergenic\"; else if($4 == 2) print $1\"\\t\"$2\"\\t\"$3\"\\t\"\"intron\"; else if($4 == 3) print $1\"\\t\"$2\"\\t\"$3\"\\t\"\"exon\"; else if($4 == 4) print $1\"\\t\"$2\"\\t\"$3\"\\t\"\"promoter\"}' - \\\n",
    "> dhs_annotated_gencode28.bed\n"
   ]
  },
  {
   "cell_type": "markdown",
   "metadata": {},
   "source": [
    "### Annotated DHS Masterlist as Promoter, Exon, Intron, or Intergenic"
   ]
  },
  {
   "cell_type": "code",
   "execution_count": 62,
   "metadata": {},
   "outputs": [
    {
     "name": "stdout",
     "output_type": "stream",
     "text": [
      "chr1\t16140\t16200\tintron\n",
      "chr1\t51868\t52040\tintergenic\n",
      "chr1\t57280\t57354\tintergenic\n",
      "chr1\t66370\t66482\tintron\n",
      "chr1\t79100\t79231\tintergenic\n",
      "chr1\t79430\t79497\tintergenic\n",
      "chr1\t79580\t79760\tintergenic\n",
      "chr1\t87220\t87295\tintergenic\n",
      "chr1\t88220\t88360\tintergenic\n",
      "chr1\t88700\t88814\tintergenic\n",
      " 158527 exon\n",
      "1376951 intergenic\n",
      "1891595 intron\n",
      " 164825 promoter\n",
      "Total: 3591898\n"
     ]
    }
   ],
   "source": [
    "%%bash\n",
    "head dhs_annotated_gencode28.bed\n",
    "cut -f4 dhs_annotated_gencode28.bed | sort - | uniq -c\n",
    "total=`wc -l dhs_annotated_gencode28.bed | cut -d' ' -f1`\n",
    "echo \"Total: $total\""
   ]
  },
  {
   "cell_type": "markdown",
   "metadata": {},
   "source": [
    "### Parse Gencode File again but this time seperate into protein-coding and non-protein-coding regions"
   ]
  },
  {
   "cell_type": "code",
   "execution_count": 63,
   "metadata": {},
   "outputs": [],
   "source": [
    "%%bash\n",
    "#Filter Initial Gencode file based on protein coding and non-protein coding regions\n",
    "grep protein_coding gencode.v28.basic.annotation.gtf \\\n",
    "| awk '{print $1\"\\t\"$4\"\\t\"$5\"\\t\"\"PC\"}' - \\\n",
    "| awk -F'\\t' '{if($2 != $3) print}' - \\\n",
    "| sort-bed - \\\n",
    "> PC.bed\n",
    "\n",
    "grep -v protein_coding gencode.v28.basic.annotation.gtf \\\n",
    "| tail -n +6 \\\n",
    "| awk '{print $1\"\\t\"$4\"\\t\"$5\"\\t\"\"NPC\"}' \\\n",
    "| awk -F'\\t' '{if($2 != $3) print}' - \\\n",
    "| sort-bed - \\\n",
    "> NPC.bed\n",
    "\n",
    "bedops -u PC.bed NPC.bed > PC-NPC-gencode.bed"
   ]
  },
  {
   "cell_type": "markdown",
   "metadata": {},
   "source": [
    "### Protein coding and non-protein coding bed file"
   ]
  },
  {
   "cell_type": "code",
   "execution_count": 64,
   "metadata": {},
   "outputs": [
    {
     "name": "stdout",
     "output_type": "stream",
     "text": [
      "chr1\t11869\t12227\tNPC\n",
      "chr1\t11869\t14409\tNPC\n",
      "chr1\t11869\t14409\tNPC\n",
      "chr1\t12010\t12057\tNPC\n",
      "chr1\t12010\t13670\tNPC\n",
      "chr1\t12179\t12227\tNPC\n",
      "chr1\t12613\t12697\tNPC\n",
      "chr1\t12613\t12721\tNPC\n",
      "chr1\t12975\t13052\tNPC\n",
      "chr1\t13221\t13374\tNPC\n"
     ]
    }
   ],
   "source": [
    "%%bash\n",
    "head PC-NPC-gencode.bed"
   ]
  },
  {
   "cell_type": "markdown",
   "metadata": {},
   "source": [
    "### Split Exon Annotated DHSs to CDS, UTR, and non-coding"
   ]
  },
  {
   "cell_type": "markdown",
   "metadata": {},
   "source": [
    "1. Extract Exonic regions from DHS Annotation\n",
    "2. Extract UTR and CDS labeled regions from Gencode\n",
    "3. Map UTR/CDS regions to Exonic DHS Annotations\n",
    "4. Pick Element with the largest overlap. If there is a tie, pick the element with \n",
    "the largest fraction of overlap\n",
    "5. If Exon Annotation is not UTR or CDS, then the DHS is non-protein-coding (NPC)\n"
   ]
  },
  {
   "cell_type": "code",
   "execution_count": 65,
   "metadata": {},
   "outputs": [],
   "source": [
    "%%bash\n",
    "#Map Exon regions to DHS Annotations\n",
    "awk '{if($4 == \"exon\") print}' dhs_annotated_gencode28.bed > dhs-exon.bed\n",
    "bedops -u utr.bed cds.bed > utr-cds-gencode.bed\n",
    "bedmap --echo --echo-map --echo-overlap-size --echo-map-size --ec dhs-exon.bed  utr-cds-gencode.bed \\\n",
    "> exon_mapped.bed\n",
    "\n",
    "#Choose the element with the largest overlap or the largest fraction of overlap\n",
    "biggest=0\n",
    "col=0\n",
    "fraction=0\n",
    "\n",
    "awk -F'|' -v f=$fraction -v b=$biggest -v c=$col '{\n",
    "        line=$3\n",
    "        split(line,a,\";\")\n",
    "        mapped=$2\n",
    "        split(mapped,m,\";\")\n",
    "        size=$4\n",
    "        split(size,s,\";\")\n",
    "        \n",
    "       \n",
    "       if (length(a) == 1) {\n",
    "                c=1;\n",
    "        }\n",
    "        else if(length(a) > 1) {\n",
    "                for(i=1;i<=NF;i++) {\n",
    "                        if (a[i] > b) {\n",
    "                                b=a[i];\n",
    "                                c=i;\n",
    "                                f=a[i]/s[i];\n",
    "                        }\n",
    "                        else if (a[i] == b) {\n",
    "                                if(a[i]/s[i] > f) {\n",
    "                                        b=a[i];\n",
    "                                        c=i;\n",
    "                                }\n",
    "                        } \n",
    "                }\n",
    "        }\n",
    "        else {\n",
    "            c=1;\n",
    "        }\n",
    "        print $1\"\\t\"m[c];\n",
    "        b=0;      \n",
    "}' exon_mapped.bed > best_exon_mapped.bed\n",
    "\n",
    "\n",
    "awk '{print $1\"\\t\"$2\"\\t\"$3\"\\t\"$4\"\\t\"$8}' best_exon_mapped.bed \\\n",
    "| sort-bed - \\\n",
    "| awk -F'\\t' '{if($5 == \"\") print $1\"\\t\"$2\"\\t\"$3\"\\t\"$4\"\\t\"\"NPC\"; else print}' \\\n",
    "> dhs_annotated_exon.bed"
   ]
  },
  {
   "cell_type": "markdown",
   "metadata": {},
   "source": [
    "### Annotated Exonic Regions"
   ]
  },
  {
   "cell_type": "code",
   "execution_count": 66,
   "metadata": {},
   "outputs": [
    {
     "name": "stdout",
     "output_type": "stream",
     "text": [
      "chr1\t89780\t89959\texon\tNPC\n",
      "chr1\t630500\t630707\texon\tNPC\n",
      "chr1\t632295\t632424\texon\tNPC\n",
      "chr1\t632360\t632511\texon\tNPC\n",
      "chr1\t634520\t634740\texon\tNPC\n",
      "chr1\t727161\t727287\texon\tNPC\n",
      "chr1\t729346\t729440\texon\tNPC\n",
      "chr1\t729379\t729468\texon\tNPC\n",
      "chr1\t818686\t818860\texon\tNPC\n",
      "chr1\t818880\t818966\texon\tNPC\n",
      "  68648 CDS\n",
      "  28971 NPC\n",
      "  60908 UTR\n",
      "Total: 158527\n"
     ]
    }
   ],
   "source": [
    "%%bash\n",
    "head dhs_annotated_exon.bed\n",
    "cut -f5 dhs_annotated_exon.bed | sort - | uniq -c\n",
    "total=`wc -l dhs_annotated_exon.bed | cut -d' ' -f1`\n",
    "echo \"Total: $total\""
   ]
  },
  {
   "cell_type": "markdown",
   "metadata": {},
   "source": [
    "### Split Promoter annotated DHSs to coding-gene and non-coding"
   ]
  },
  {
   "cell_type": "markdown",
   "metadata": {},
   "source": [
    "1. Extract Promoter regions from DHS Annotation\n",
    "2. Map protein-coding/non-coding gencode regions to Promoter DHS Annotations\n",
    "3. Pick element with the largest overlap. If there is a tie, pick the element with the largest fraction of overlap\n",
    "\n",
    "Notes:\n",
    "NPC = non-coding, PC = protein-coding"
   ]
  },
  {
   "cell_type": "code",
   "execution_count": 67,
   "metadata": {},
   "outputs": [],
   "source": [
    "%%bash\n",
    "#Map\n",
    "awk '{if($4 == \"promoter\") print}' dhs_annotated_gencode28.bed > dhs-promoter.bed\n",
    "\n",
    "bedmap --echo --echo-map --echo-overlap-size --echo-map-size --skip-unmapped --ec dhs-promoter.bed PC-NPC-gencode.bed \\\n",
    "> promoter_mapped.bed\n",
    "\n",
    "#Pick the element with the largest overlap or the largest fraction of overlap\n",
    "\n",
    "biggest=0\n",
    "col=0\n",
    "fraction=0\n",
    "\n",
    "awk -F'|' -v f=$fraction -v b=$biggest -v c=$col '{\n",
    "        line=$3\n",
    "        split(line,a,\";\")\n",
    "        mapped=$2\n",
    "        split(mapped,m,\";\")\n",
    "        size=$4\n",
    "        split(size,s,\";\")\n",
    "        \n",
    "        if (length(a) == 1) {\n",
    "                c=1;\n",
    "        }\n",
    "        else {\n",
    "                for(i=1;i<=NF;i++) {\n",
    "                        if (a[i] > b) {\n",
    "                                b=a[i];\n",
    "                                c=i;\n",
    "                                f=a[i]/s[i];\n",
    "                        }\n",
    "                        else if (a[i] == b) {\n",
    "                                if(a[i]/s[i] > f) {\n",
    "                                        b=a[i];\n",
    "                                        c=i;\n",
    "                                }\n",
    "                        } \n",
    "                }      \n",
    "        }\n",
    "        print $1\"\\t\"m[c];\n",
    "        b=0;      \n",
    "}' promoter_mapped.bed > best_promoter_mapped.bed\n",
    "\n",
    "awk '{print $1\"\\t\"$2\"\\t\"$3\"\\t\"$4\"\\t\"$8}' best_promoter_mapped.bed \\\n",
    "| sort-bed - \\\n",
    "> dhs_annotated_promoter.bed"
   ]
  },
  {
   "cell_type": "code",
   "execution_count": 68,
   "metadata": {},
   "outputs": [
    {
     "name": "stdout",
     "output_type": "stream",
     "text": [
      "chr1\t90140\t90209\tpromoter\tNPC\n",
      "chr1\t135100\t135144\tpromoter\tNPC\n",
      "chr1\t182681\t182819\tpromoter\tNPC\n",
      "chr1\t186960\t187129\tpromoter\tNPC\n",
      "chr1\t629100\t629280\tpromoter\tNPC\n",
      "chr1\t629160\t629310\tpromoter\tNPC\n",
      "chr1\t629512\t629580\tpromoter\tNPC\n",
      "chr1\t629520\t629596\tpromoter\tNPC\n",
      "chr1\t629870\t630020\tpromoter\tNPC\n",
      "chr1\t630075\t630240\tpromoter\tNPC\n",
      "  47219 NPC\n",
      " 112242 PC\n",
      "Total: 159461\n"
     ]
    }
   ],
   "source": [
    "%%bash\n",
    "head dhs_annotated_promoter.bed\n",
    "cut -f5 dhs_annotated_promoter.bed | sort - | uniq -c\n",
    "total=`wc -l dhs_annotated_promoter.bed | cut -d' ' -f1`\n",
    "echo \"Total: $total\""
   ]
  },
  {
   "cell_type": "markdown",
   "metadata": {},
   "source": [
    "### Split Intronic annotated DHSs to coding-gene and non-coding\n",
    "\n",
    "1. Extract Intronic regions from DHS Annotation\n",
    "2. Map protein-coding/non-coding gencode regions to Intronic DHS Annotations\n",
    "3. Pick element with the largest overlap. If there is a tie, pick the element with the largest fraction of overlap\n",
    "\n",
    "Notes:\n",
    "NPC = non-coding, PC = protein-coding"
   ]
  },
  {
   "cell_type": "code",
   "execution_count": 69,
   "metadata": {},
   "outputs": [],
   "source": [
    "%%bash\n",
    "\n",
    "#Map PC/NPC regions to Intronic DHSs\n",
    "awk -F'\\t' '{if($4 == \"intron\") print}' dhs_annotated_gencode28.bed > dhs-intron.bed\n",
    "\n",
    "bedmap --echo --echo-map --echo-overlap-size --echo-map-size --skip-unmapped --ec dhs-intron.bed PC-NPC-gencode.bed \\\n",
    "> intron_mapped.bed\n",
    "\n",
    "biggest=0\n",
    "col=0\n",
    "fraction=0\n",
    "\n",
    "#Choose Best Annotation\n",
    "awk -F'|' -v f=$fraction -v b=$biggest -v c=$col '{\n",
    "        line=$3\n",
    "        split(line,a,\";\")\n",
    "        mapped=$2\n",
    "        split(mapped,m,\";\")\n",
    "        size=$4\n",
    "        split(size,s,\";\")\n",
    "        \n",
    "        if (length(a) == 1) {\n",
    "                c=1;\n",
    "        }\n",
    "        else {\n",
    "                for(i=1;i<=NF;i++) {\n",
    "                        if (a[i] > b) {\n",
    "                                b=a[i];\n",
    "                                c=i;\n",
    "                                f=a[i]/s[i];\n",
    "                        }\n",
    "                        else if (a[i] == b) {\n",
    "                                if(a[i]/s[i] > f) {\n",
    "                                        b=a[i];\n",
    "                                        c=i;\n",
    "                                }\n",
    "                        } \n",
    "                }      \n",
    "        }\n",
    "        print $1\"\\t\"m[c];\n",
    "        b=0;      \n",
    "}' intron_mapped.bed > best_intron_mapped.bed\n",
    "\n",
    "awk '{print $1\"\\t\"$2\"\\t\"$3\"\\t\"$4\"\\t\"$8}' best_intron_mapped.bed \\\n",
    "| sort-bed - \\\n",
    "> dhs_annotated_intron.bed"
   ]
  },
  {
   "cell_type": "code",
   "execution_count": 70,
   "metadata": {},
   "outputs": [
    {
     "name": "stdout",
     "output_type": "stream",
     "text": [
      "chr1\t16140\t16200\tintron\tNPC\n",
      "chr1\t66370\t66482\tintron\tPC\n",
      "chr1\t99630\t99717\tintron\tNPC\n",
      "chr1\t113860\t113950\tintron\tNPC\n",
      "chr1\t128619\t128757\tintron\tNPC\n",
      "chr1\t186727\t186834\tintron\tNPC\n",
      "chr1\t186817\t186996\tintron\tNPC\n",
      "chr1\t190865\t190920\tintron\tNPC\n",
      "chr1\t190920\t191071\tintron\tNPC\n",
      "chr1\t191260\t191340\tintron\tNPC\n",
      " 383039 NPC\n",
      "1508556 PC\n",
      "Total: 1891595\n"
     ]
    }
   ],
   "source": [
    "%%bash\n",
    "head dhs_annotated_intron.bed\n",
    "cut -f5 dhs_annotated_intron.bed | sort - | uniq -c\n",
    "total=`wc -l dhs_annotated_intron.bed | cut -d' ' -f1`\n",
    "echo \"Total: $total\""
   ]
  },
  {
   "cell_type": "markdown",
   "metadata": {},
   "source": [
    "### Clean-up Directories"
   ]
  },
  {
   "cell_type": "code",
   "execution_count": 73,
   "metadata": {},
   "outputs": [],
   "source": [
    "%%bash\n",
    "\n",
    "#Move Everything into extra_files initially\n",
    "mkdir -p extra_files\n",
    "mv *bed extra_files\n",
    "mv *gtf extra_files\n",
    "mv *txt extra_files\n",
    "\n",
    "#Raw Files\n",
    "mkdir -p raw_files\n",
    "mv extra_files/gencode.v28.basic.annotation.gtf raw_files\n",
    "mv extra_files/chromInfo.hg38.bed raw_files\n",
    "mv extra_files/DHS_Index_and_Vocabulary_hg38_WM20190703.txt raw_files\n",
    "\n",
    "#Results\n",
    "mkdir -p results\n",
    "mv extra_files/dhs_annotated_*.bed results\n",
    "\n"
   ]
  },
  {
   "cell_type": "code",
   "execution_count": null,
   "metadata": {},
   "outputs": [],
   "source": []
  }
 ],
 "metadata": {
  "kernelspec": {
   "display_name": "Python 2.7.5",
   "language": "python",
   "name": "python2"
  },
  "language_info": {
   "codemirror_mode": {
    "name": "ipython",
    "version": 2
   },
   "file_extension": ".py",
   "mimetype": "text/x-python",
   "name": "python",
   "nbconvert_exporter": "python",
   "pygments_lexer": "ipython2",
   "version": "2.7.5"
  }
 },
 "nbformat": 4,
 "nbformat_minor": 4
}
