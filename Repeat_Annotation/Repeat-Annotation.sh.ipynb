{
 "cells": [
  {
   "cell_type": "markdown",
   "metadata": {},
   "source": [
    "# Annotating the DHS Masterlist with Repeated Regions\n",
    "\n",
    " \n",
    "1.\tDownload RepeatMasker and DHS Masterlist Files\n",
    "2.\tMap RepeatMasker to DHS Masterlist and echo the overlap and mapped-element size\n",
    "3.\tChoose element that has the largest overlap or the largest fraction of overlap, if there is a tie\n",
    "4.\tRename Class Annotation to SINE, LINE, LTR, Simple_repeat, DNA, or Other (includes anything not already named)\n",
    "5.  Annotate DHS's based on Family Repeats"
   ]
  },
  {
   "cell_type": "markdown",
   "metadata": {},
   "source": [
    "## Download RepeatMasker and DHS Masterlist Files"
   ]
  },
  {
   "cell_type": "markdown",
   "metadata": {},
   "source": [
    "1. Look at Github REAME.md for instructions on how to download and name RepeatMasker File and DHS Masterlist\n",
    "2. Load bedops in order to run bedops, bedmap, and sort-bed\n"
   ]
  },
  {
   "cell_type": "markdown",
   "metadata": {},
   "source": [
    "### DHS Masterlist"
   ]
  },
  {
   "cell_type": "code",
   "execution_count": 71,
   "metadata": {},
   "outputs": [
    {
     "name": "stdout",
     "output_type": "stream",
     "text": [
      "chr1\t16140\t16200\n",
      "chr1\t51868\t52040\n",
      "chr1\t57280\t57354\n",
      "chr1\t66370\t66482\n",
      "chr1\t79100\t79231\n",
      "chr1\t79430\t79497\n",
      "chr1\t79580\t79760\n",
      "chr1\t87220\t87295\n",
      "chr1\t88220\t88360\n",
      "chr1\t88700\t88814\n",
      "Total number of rows: 3591898\n"
     ]
    }
   ],
   "source": [
    "%%bash\n",
    "#Initial DHS_Index Filename should be \"DHS_Index_and_Vocabulary_hg38_WM20190703.txt.gz\"\n",
    "gunzip DHS_Index_and_Vocabulary_hg38_WM20190703.txt.gz\n",
    "cut -f1-3 DHS_Index_and_Vocabulary_hg38_WM20190703.txt \\\n",
    "| tail -n +2 \\\n",
    "> DHS_Index.bed\n",
    "\n",
    "head DHS_Index.bed\n",
    "total=`wc -l DHS_Index.bed | cut -d' ' -f1`\n",
    "echo \"Total number of rows: $total\""
   ]
  },
  {
   "cell_type": "markdown",
   "metadata": {},
   "source": [
    "### Repeats"
   ]
  },
  {
   "cell_type": "code",
   "execution_count": 72,
   "metadata": {},
   "outputs": [
    {
     "name": "stdout",
     "output_type": "stream",
     "text": [
      "#bin\tswScore\tmilliDiv\tmilliDel\tmilliIns\tgenoName\tgenoStart\tgenoEnd\tgenoLeft\tstrand\trepName\trepClass\trepFamily\trepStart\trepEnd\trepLeft\tid\n",
      "0\t1892\t83\t59\t14\tchr1\t67108753\t67109046\t-181847376\t+\tL1P5\tLINE\tL1\t5301\t5607\t-544\t1\n",
      "1\t2582\t27\t0\t23\tchr1\t8388315\t8388618\t-240567804\t-\tAluY\tSINE\tAlu\t-15\t296\t1\t1\n",
      "1\t4085\t171\t77\t36\tchr1\t25165803\t25166380\t-223790042\t+\tL1MB5\tLINE\tL1\t5567\t6174\t0\t4\n",
      "1\t2285\t91\t0\t13\tchr1\t33554185\t33554483\t-215401939\t-\tAluSc\tSINE\tAlu\t-6\t303\t10\t6\n",
      "1\t2451\t64\t3\t26\tchr1\t41942894\t41943205\t-207013217\t-\tAluY\tSINE\tAlu\t-7\t304\t1\t8\n",
      "1\t1587\t272\t100\t49\tchr1\t50331336\t50332274\t-198624148\t+\tHAL1\tLINE\tL1\t773\t1763\t-744\t9\n",
      "1\t1393\t280\t82\t51\tchr1\t58719764\t58720546\t-190235876\t+\tL2a\tLINE\tL2\t2582\t3418\t-8\t1\n",
      "2\t5372\t165\t14\t27\tchr1\t75496057\t75497775\t-173458647\t+\tL1MA9\tLINE\tL1\t5168\t6868\t-30\t1\n",
      "2\t536\t349\t146\t56\tchr1\t92274205\t92275925\t-156680497\t+\tL2\tLINE\tL2\t406\t2306\t-1113\t1\n",
      "Total number of rows: 5607739\n"
     ]
    }
   ],
   "source": [
    "%%bash\n",
    "#Initial Repeats Filename should be \"repeats_ucsc.gz\"\n",
    "gunzip repeats_ucsc.gz\n",
    "head repeats_ucsc\n",
    "total=`wc -l repeats_ucsc | cut -d' ' -f1`\n",
    "echo \"Total number of rows: $total\""
   ]
  },
  {
   "cell_type": "markdown",
   "metadata": {},
   "source": [
    "## Map repeats_ucsc to DHS_Index.bed"
   ]
  },
  {
   "cell_type": "code",
   "execution_count": 73,
   "metadata": {},
   "outputs": [],
   "source": [
    "%%bash\n",
    "\n",
    "##Filter repeats_ucsc, map to DHS_Index.bed and print overlap stats\n",
    "tail -n +2 repeats_ucsc \\\n",
    "| cut -f6-8,10-13 \\\n",
    "| sort-bed - \\\n",
    "| grep -v LTR? | grep -v DNA? | grep -v RC? | grep -v SINE? \\\n",
    "| bedmap --echo --echo-map --echo-overlap-size --echo-map-size --skip-unmapped --ec DHS_Index.bed - \\\n",
    "> repeats_mapped.bed\n",
    "\n",
    "\n",
    "#Make directory to clean up working directory\n",
    "mkdir -p extra_files\n",
    "gzip DHS_Index_and_Vocabulary_hg38_WM20190703.txt\n",
    "mv DHS_Index_and_Vocabulary_hg38_WM20190703.txt.gz extra_files/\n",
    "mv repeats_ucsc extra_files\n",
    "mv DHS_Index.bed extra_files/"
   ]
  },
  {
   "cell_type": "markdown",
   "metadata": {},
   "source": [
    "### Mapped Repeats File"
   ]
  },
  {
   "cell_type": "code",
   "execution_count": 74,
   "metadata": {},
   "outputs": [
    {
     "name": "stdout",
     "output_type": "stream",
     "text": [
      "chr1\t51868\t52040|chr1\t51584\t51880\t+\tAluYj4\tSINE\tAlu|12|296\n",
      "chr1\t66370\t66482|chr1\t66157\t66632\t+\t(AT)n\tSimple_repeat\tSimple_repeat|112|475\n",
      "chr1\t79100\t79231|chr1\t78890\t79850\t+\tL1PREC2\tLINE\tL1|131|960\n",
      "chr1\t79430\t79497|chr1\t78890\t79850\t+\tL1PREC2\tLINE\tL1|67|960\n",
      "chr1\t79580\t79760|chr1\t78890\t79850\t+\tL1PREC2\tLINE\tL1|180|960\n",
      "chr1\t87220\t87295|chr1\t87125\t87413\t-\tAluJo\tSINE\tAlu|75|288\n",
      "chr1\t88220\t88360|chr1\t88143\t88823\t+\tL2\tLINE\tL2|140|680\n",
      "chr1\t88700\t88814|chr1\t88143\t88823\t+\tL2\tLINE\tL2|114|680\n",
      "chr1\t89780\t89959|chr1\t89858\t90056\t+\tMLT1H2\tLTR\tERVL-MaLR|101|198\n",
      "chr1\t113860\t113950|chr1\t113691\t114101\t+\tMLT1F2\tLTR\tERVL-MaLR|90|410\n",
      "Total number of rows: 1930749\n"
     ]
    }
   ],
   "source": [
    "%%bash\n",
    "head repeats_mapped.bed\n",
    "total=`wc -l repeats_mapped.bed | cut -d' ' -f1`\n",
    "echo \"Total number of rows: $total\""
   ]
  },
  {
   "cell_type": "markdown",
   "metadata": {},
   "source": [
    "## Choose the best DHS annotation\n",
    "When there were multiple repeated regions that mapped to the DHS Masterlist, choose the region that has the largest fraction of overlap. "
   ]
  },
  {
   "cell_type": "code",
   "execution_count": 76,
   "metadata": {},
   "outputs": [],
   "source": [
    "%%bash\n",
    "#Choose the Repeat Region with largest fraction of overlap \n",
    "\n",
    "biggest=0\n",
    "col=0\n",
    "fraction=0\n",
    "\n",
    "awk -F'|' -v f=$fraction -v b=$biggest -v c=$col '{\n",
    "        line=$3\n",
    "        split(line,a,\";\")\n",
    "\n",
    "        mapped=$2\n",
    "        split(mapped,m,\";\")\n",
    "\n",
    "        size=$4\n",
    "        split(size,s,\";\")\n",
    "        \n",
    "        if (length(a) == 1) {\n",
    "            c=1;\n",
    "        }\n",
    "        else {\n",
    "                for(i=1;i<=NF;i++) {\n",
    "                        if (a[i] > b) {\n",
    "                                b=a[i];\n",
    "                                c=i;\n",
    "                                f=a[i]/s[i];\n",
    "                        }\n",
    "                        else if (a[i] == b) {\n",
    "                            if(a[i]/s[i] > f) {\n",
    "                                b=a[i];\n",
    "                                c=i;\n",
    "                            }\n",
    "                        } \n",
    "            }      \n",
    "        }\n",
    "        print $1\"\\t\"m[c];\n",
    "        b=0;      \n",
    "\n",
    "}'  repeats_mapped.bed  > best_annotations.txt\n",
    "\n",
    "\n",
    "awk '{print $1\"\\t\"$2\"\\t\"$3\"\\t\"$9\"\\t\"$10}' best_annotations.txt \\\n",
    "| sort-bed - \\\n",
    "> dhs_annotated_all-repeats.bed\n",
    "\n",
    "#Create 7 Groups. 6 with original Repeat names and the last one \"Others\"\n",
    "awk '{\n",
    "        if ($4 != \"SINE\" && $4 != \"LINE\" && $4 != \"LTR\" && $4 != \"Simple_repeat\" && $4 != \"DNA\" && $4 != \"Low_complexity\") {\n",
    "                print $1\"\\t\"$2\"\\t\"$3\"\\t\"\"Others\"\"\\t\"\"Others\";\n",
    "        }\n",
    "        else {\n",
    "                print;\n",
    "        }\n",
    "}' dhs_annotated_all-repeats.bed > dhs_annotated_7-classRepeats.bed\n",
    "\n",
    "#Clean-up\n",
    "mv best_annotations.txt extra_files\n",
    "mv dhs_annotated_all-repeats.bed extra_files\n",
    "mv repeats_mapped.bed extra_files"
   ]
  },
  {
   "cell_type": "markdown",
   "metadata": {},
   "source": [
    "### DHS Masterlist Annotated with Repeats"
   ]
  },
  {
   "cell_type": "code",
   "execution_count": 77,
   "metadata": {},
   "outputs": [
    {
     "name": "stdout",
     "output_type": "stream",
     "text": [
      "chr1\t51868\t52040\tSINE\tAlu\n",
      "chr1\t66370\t66482\tSimple_repeat\tSimple_repeat\n",
      "chr1\t79100\t79231\tLINE\tL1\n",
      "chr1\t79430\t79497\tLINE\tL1\n",
      "chr1\t79580\t79760\tLINE\tL1\n",
      "chr1\t87220\t87295\tSINE\tAlu\n",
      "chr1\t88220\t88360\tLINE\tL2\n",
      "chr1\t88700\t88814\tLINE\tL2\n",
      "chr1\t89780\t89959\tLTR\tERVL-MaLR\n",
      "chr1\t113860\t113950\tLTR\tERVL-MaLR\n",
      " 196686 DNA\n",
      " 605539 LINE\n",
      "  23210 Low_complexity\n",
      " 451872 LTR\n",
      "  20917 Others\n",
      " 118922 Simple_repeat\n",
      " 513603 SINE\n",
      "Total: 1930749\n"
     ]
    }
   ],
   "source": [
    "%%bash\n",
    "head dhs_annotated_7-classRepeats.bed\n",
    "cut -f4 dhs_annotated_7-classRepeats.bed | sort - | uniq -c\n",
    "total=`wc -l dhs_annotated_7-classRepeats.bed | cut -d' ' -f1`\n",
    "echo \"Total: $total\"\n"
   ]
  },
  {
   "cell_type": "markdown",
   "metadata": {},
   "source": [
    "### Annotate and Clean-up Family Repeats"
   ]
  },
  {
   "cell_type": "code",
   "execution_count": 78,
   "metadata": {},
   "outputs": [],
   "source": [
    "%%bash\n",
    "\n",
    "###Find the distribution of family repeats\n",
    "#SINE -> Alu, MIR, and Others\n",
    "#LTR -> ERVL-MaLR, ERV1, ERVL, Others\n",
    "#DNA -> hAT-Charlie, TcMar-Tigger, Others\n",
    "#LINE -> L1, L2, Others\n",
    "\n",
    "#Split dhs_annotated_7-classRepeats.bed into the four classes that have familes\n",
    "for i in SINE LINE LTR DNA\n",
    "do\n",
    "        awk -v class=\"$i\" '{if($4 == class) print}' dhs_annotated_7-classRepeats.bed > tmp.${i}.bed\n",
    "done\n",
    "\n",
    "\n",
    "awk '{if($5 != \"Alu\" &&  $5 != \"MIR\") {\n",
    "        print $1\"\\t\"$2\"\\t\"$3\"\\t\"$4\"\\t\"\"Others\"; \n",
    "        }\n",
    "        \n",
    "        else {\n",
    "        print $1\"\\t\"$2\"\\t\"$3\"\\t\"$4\"\\t\"$5;\n",
    "        }\n",
    "}' tmp.SINE.bed > SINE.bed\n",
    "\n",
    "#LTR -> ERVL-MaLR, ERV1, ERVL, Others\n",
    "awk '{if($5 != \"ERVL-MaLR\" &&  $5 != \"ERV1\" && $5 != \"ERVL\") {\n",
    "        print $1\"\\t\"$2\"\\t\"$3\"\\t\"$4\"\\t\"\"Others\"; \n",
    "        }\n",
    "        \n",
    "        else {\n",
    "        print $1\"\\t\"$2\"\\t\"$3\"\\t\"$4\"\\t\"$5;\n",
    "        }\n",
    "}' tmp.LTR.bed > LTR.bed\n",
    "\n",
    "#DNA -> hAT-Charlie, TcMar-Tigger, Others\n",
    "awk '{if($5 != \"hAT-Charlie\" &&  $5 != \"TcMar-Tigger\") {\n",
    "        print $1\"\\t\"$2\"\\t\"$3\"\\t\"$4\"\\t\"\"Others\"; \n",
    "        }\n",
    "        \n",
    "        else {\n",
    "        print $1\"\\t\"$2\"\\t\"$3\"\\t\"$4\"\\t\"$5;\n",
    "        }\n",
    "}' tmp.DNA.bed > DNA.bed\n",
    "\n",
    "#LINE -> L1, L2, Others\n",
    "awk '{if($5 != \"L1\" &&  $5 != \"L2\") {\n",
    "        print $1\"\\t\"$2\"\\t\"$3\"\\t\"$4\"\\t\"\"Others\"; \n",
    "        }\n",
    "        \n",
    "        else {\n",
    "        print $1\"\\t\"$2\"\\t\"$3\"\\t\"$4\"\\t\"$5;\n",
    "        }\n",
    "}' tmp.LINE.bed > LINE.bed\n",
    "\n",
    "\n",
    "\n",
    "#Clean Up\n",
    "rm tmp.*"
   ]
  },
  {
   "cell_type": "markdown",
   "metadata": {},
   "source": [
    "### Sample SINE Family Repeats"
   ]
  },
  {
   "cell_type": "code",
   "execution_count": 79,
   "metadata": {},
   "outputs": [
    {
     "name": "stdout",
     "output_type": "stream",
     "text": [
      "chr1\t51868\t52040\tSINE\tAlu\n",
      "chr1\t87220\t87295\tSINE\tAlu\n",
      "chr1\t128619\t128757\tSINE\tAlu\n",
      "chr1\t284375\t284489\tSINE\tMIR\n",
      "chr1\t740730\t740844\tSINE\tAlu\n",
      "chr1\t770440\t770540\tSINE\tAlu\n",
      "chr1\t775269\t775340\tSINE\tAlu\n",
      "chr1\t777886\t778041\tSINE\tAlu\n",
      "chr1\t779727\t779830\tSINE\tAlu\n",
      "chr1\t779794\t779972\tSINE\tAlu\n",
      " 256390 Alu\n",
      " 250203 MIR\n",
      "   7010 Others\n",
      "Total: 513603\n"
     ]
    }
   ],
   "source": [
    "%%bash \n",
    "head SINE.bed\n",
    "cut -f5 SINE.bed | sort - | uniq -c\n",
    "total=`wc -l SINE.bed | cut -d' ' -f1`\n",
    "echo \"Total: $total\""
   ]
  },
  {
   "cell_type": "code",
   "execution_count": null,
   "metadata": {},
   "outputs": [],
   "source": []
  }
 ],
 "metadata": {
  "kernelspec": {
   "display_name": "Python 2.7.5",
   "language": "python",
   "name": "python2"
  },
  "language_info": {
   "codemirror_mode": {
    "name": "ipython",
    "version": 2
   },
   "file_extension": ".py",
   "mimetype": "text/x-python",
   "name": "python",
   "nbconvert_exporter": "python",
   "pygments_lexer": "ipython2",
   "version": "2.7.5"
  }
 },
 "nbformat": 4,
 "nbformat_minor": 4
}
